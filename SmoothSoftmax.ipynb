{
 "cells": [
  {
   "cell_type": "code",
   "execution_count": 231,
   "metadata": {},
   "outputs": [],
   "source": [
    "import torch\n",
    "import torch.nn as nn\n",
    "import torch.nn.functional as F\n",
    "\n",
    "import matplotlib.pyplot as plt\n",
    "import numpy as np"
   ]
  },
  {
   "cell_type": "code",
   "execution_count": 285,
   "metadata": {},
   "outputs": [],
   "source": [
    "class SmoothSoftmax1d(nn.Module):\n",
    "    def __init__(self, kernel):\n",
    "        super(SmoothSoftmax1d, self).__init__()\n",
    "        \n",
    "        kernel_ = kernel / kernel.sum()\n",
    "        ks = kernel.shape[0]\n",
    "        pad = int(np.floor(ks / 2))\n",
    "        self.conv1 = nn.Conv1d(in_channels=1,\n",
    "                               out_channels=1,\n",
    "                               kernel_size=ks,\n",
    "                               stride=1,\n",
    "                               padding=pad,\n",
    "                               padding_mode=\"replicate\",\n",
    "                               bias=False)\n",
    "        \n",
    "        k_ = torch.tensor([[kernel_]])\n",
    "        self.conv1.weight = nn.Parameter(k_)\n",
    "        self.conv1.require_grad = False\n",
    "        \n",
    "        self.act = nn.Softmax(dim=2)\n",
    "\n",
    "    def forward(self, x):\n",
    "        x = self.act(self.conv1(x))\n",
    "        return x\n",
    "    \n",
    "\n",
    "class SmoothSoftmax2d(nn.Module):\n",
    "    def __init__(self, kernel):\n",
    "        super(SmoothSoftmax2d, self).__init__()\n",
    "        \n",
    "        assert kernel.shape[0] == kernel.shape[1], \"model needs a square kernel\"\n",
    "        \n",
    "        kernel_ = kernel / kernel.sum()\n",
    "        ks = kernel.shape[0]\n",
    "        pad = int(np.floor(ks / 2))\n",
    "        self.conv1 = nn.Conv2d(in_channels=1,\n",
    "                               out_channels=1,\n",
    "                               kernel_size=ks,\n",
    "                               stride=1,\n",
    "                               padding=pad,\n",
    "                               bias=False)\n",
    "        \n",
    "        k_ = torch.tensor([[kernel_]])\n",
    "        self.conv1.weight = nn.Parameter(k_)\n",
    "        self.conv1.require_grad = False\n",
    "        \n",
    "        self.act = nn.Softmax(dim=2)\n",
    "\n",
    "    def forward(self, x):\n",
    "        n, c, xs, ys = x.shape\n",
    "        \n",
    "        x = self.conv1(x)\n",
    "        \n",
    "        x = x.view(-1, c*xs*ys)\n",
    "        maxes = torch.max(x, 1, keepdim=True)[0]\n",
    "        x_exp = torch.exp(x-maxes)\n",
    "        x_exp_sum = torch.sum(x_exp, 1, keepdim=True)\n",
    "        x = x_exp/x_exp_sum\n",
    "        \n",
    "        x = x.view(-1, c, xs, ys)\n",
    "        return x\n"
   ]
  },
  {
   "cell_type": "markdown",
   "metadata": {},
   "source": [
    "# testing 1D smooth softmax "
   ]
  },
  {
   "cell_type": "code",
   "execution_count": 379,
   "metadata": {},
   "outputs": [
    {
     "name": "stdout",
     "output_type": "stream",
     "text": [
      "n:  1\n",
      "6\n",
      "n:  2\n",
      "13\n",
      "8\n",
      "n:  3\n",
      "17\n",
      "11\n",
      "4\n",
      "torch.Size([3, 1, 20])\n"
     ]
    },
    {
     "data": {
      "image/png": "[encoded data removed]",
      "text/plain": [
       "<Figure size 720x360 with 1 Axes>"
      ]
     },
     "metadata": {
      "needs_background": "light"
     },
     "output_type": "display_data"
    },
    {
     "data": {
      "image/png": "[encoded data removed]",
      "text/plain": [
       "<Figure size 720x360 with 1 Axes>"
      ]
     },
     "metadata": {
      "needs_background": "light"
     },
     "output_type": "display_data"
    },
    {
     "data": {
      "image/png": "[encoded data removed]",
      "text/plain": [
       "<Figure size 720x360 with 1 Axes>"
      ]
     },
     "metadata": {
      "needs_background": "light"
     },
     "output_type": "display_data"
    }
   ],
   "source": [
    "ss1d = SmoothSoftmax1d(kernel=np.array([0.1, 0.5, 1, 0.5, 0.1], dtype=np.float32))\n",
    "\n",
    "n = 3\n",
    "l = 20\n",
    "x = 0.1 * torch.randn(n*l).reshape(n, 1, l)\n",
    "\n",
    "for i in range(n):\n",
    "    m = i + 1\n",
    "    print(\"n: \", m)\n",
    "    for j in range(m):\n",
    "        ix = np.random.randint(l)\n",
    "        x[i, 0, ix] = 1\n",
    "        print(ix)\n",
    "\n",
    "y = ss1d(x)\n",
    "print(y.shape)\n",
    "\n",
    "\n",
    "for i in range(n):\n",
    "    plt.figure(figsize=(10, 5))\n",
    "    y_ = y.detach().numpy()[i, 0]\n",
    "    plt.imshow([y_])\n",
    "    plt.show()"
   ]
  },
  {
   "cell_type": "markdown",
   "metadata": {},
   "source": [
    "# testing 2D smooth softmax"
   ]
  },
  {
   "cell_type": "code",
   "execution_count": 372,
   "metadata": {
    "scrolled": false
   },
   "outputs": [
    {
     "name": "stdout",
     "output_type": "stream",
     "text": [
      "torch.Size([3, 1, 10, 10])\n",
      "torch.Size([3, 1, 10, 10])\n"
     ]
    },
    {
     "data": {
      "image/png": "[encoded data removed]",
      "text/plain": [
       "<Figure size 432x288 with 1 Axes>"
      ]
     },
     "metadata": {
      "needs_background": "light"
     },
     "output_type": "display_data"
    },
    {
     "data": {
      "image/png": "[encoded data removed]",
      "text/plain": [
       "<Figure size 432x288 with 1 Axes>"
      ]
     },
     "metadata": {
      "needs_background": "light"
     },
     "output_type": "display_data"
    },
    {
     "data": {
      "image/png": "[encoded data removed]",
      "text/plain": [
       "<Figure size 432x288 with 1 Axes>"
      ]
     },
     "metadata": {
      "needs_background": "light"
     },
     "output_type": "display_data"
    }
   ],
   "source": [
    "def gkern(l=5, sig=0.1):\n",
    "    \"\"\"\\\n",
    "    creates gaussian kernel with side length `l` and a sigma of `sig`\n",
    "    \"\"\"\n",
    "    ax = np.linspace(-(l - 1) / 2., (l - 1) / 2., l)\n",
    "    gauss = np.exp(-0.5 * np.square(ax) / np.square(sig))\n",
    "    kernel = np.outer(gauss, gauss)\n",
    "    return (kernel / np.sum(kernel)).astype(np.float32)\n",
    "\n",
    "kernel = gkern(l=5, sig=1.0)\n",
    "\n",
    "ss2d = SmoothSoftmax2d(kernel=kernel)\n",
    "\n",
    "n = 3\n",
    "l = 10\n",
    "x = 0.1 * torch.randn(n*l*l).reshape(n, 1, l, l)\n",
    "\n",
    "print(x.shape)\n",
    "\n",
    "for i in range(n):\n",
    "    m = i + 1\n",
    "    for j in range(m):\n",
    "        ix, iy = np.random.randint(0, l, 2)\n",
    "        x[i, 0, ix, iy] = 1\n",
    "\n",
    "y = ss2d(x)\n",
    "\n",
    "print(y.shape)\n",
    "\n",
    "for i in range(n):\n",
    "    y_ = y.detach().numpy()[i, 0]\n",
    "    plt.imshow(y_)#, vmin=0, vmax=1)\n",
    "    plt.show()"
   ]
  }
 ],
 "metadata": {
  "kernelspec": {
   "display_name": "Python 3",
   "language": "python",
   "name": "python3"
  },
  "language_info": {
   "codemirror_mode": {
    "name": "ipython",
    "version": 3
   },
   "file_extension": ".py",
   "mimetype": "text/x-python",
   "name": "python",
   "nbconvert_exporter": "python",
   "pygments_lexer": "ipython3",
   "version": "3.8.5"
  }
 },
 "nbformat": 4,
 "nbformat_minor": 4
}
